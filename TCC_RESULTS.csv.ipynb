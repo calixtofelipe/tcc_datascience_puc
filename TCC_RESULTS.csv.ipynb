{
 "cells": [
  {
   "cell_type": "code",
   "execution_count": 2,
   "metadata": {},
   "outputs": [],
   "source": [
    "import pandas as pd\n",
    "import numpy as np\n"
   ]
  },
  {
   "cell_type": "code",
   "execution_count": 9,
   "metadata": {},
   "outputs": [],
   "source": [
    "analise_bert = pd.read_csv('modelo_bertV001.csv', index_col=0)\n",
    "analise_bow = pd.read_csv('modelo_bow_v001.csv', index_col=0)\n",
    "analise_tfidf = pd.read_csv('modelo_tfidf_v001.csv', index_col=0)"
   ]
  },
  {
   "cell_type": "code",
   "execution_count": 32,
   "metadata": {},
   "outputs": [
    {
     "name": "stdout",
     "output_type": "stream",
     "text": [
      "  Resultado F1 Score BoW:  86.98\n",
      "Resultado F1 Score TFIDF:  81.6\n",
      " Resultado F1 Score Bert:  62.3\n"
     ]
    }
   ],
   "source": [
    "from sklearn.metrics import f1_score\n",
    "print('  Resultado F1 Score BoW: ',round(f1_score(analise_bow['categoria'], analise_bow['categoria_pred'], average='micro') * 100,2))\n",
    "print('Resultado F1 Score TFIDF: ',round(f1_score(analise_tfidf['categoria'], analise_tfidf['categoria_pred'], average='micro') * 100,2))\n",
    "print(' Resultado F1 Score Bert: ',round(f1_score(analise_bert['categoria'], analise_bert['categoria_pred'], average='micro') * 100,2))\n"
   ]
  },
  {
   "cell_type": "code",
   "execution_count": 14,
   "metadata": {},
   "outputs": [
    {
     "data": {
      "text/plain": [
       "0.6229953791791247"
      ]
     },
     "execution_count": 14,
     "metadata": {},
     "output_type": "execute_result"
    }
   ],
   "source": [
    "print(f'Resultado F1 Score Bert: {x:.2f}')"
   ]
  },
  {
   "cell_type": "code",
   "execution_count": 24,
   "metadata": {},
   "outputs": [
    {
     "ename": "SyntaxError",
     "evalue": "invalid syntax (<ipython-input-24-abbfea3cf5de>, line 2)",
     "output_type": "error",
     "traceback": [
      "\u001b[1;36m  File \u001b[1;32m\"<ipython-input-24-abbfea3cf5de>\"\u001b[1;36m, line \u001b[1;32m2\u001b[0m\n\u001b[1;33m    print(f'pi = {(f1_score(analise_bert['categoria'], analise_bert['categoria_pred'], average='micro') * 100):.2f}')\u001b[0m\n\u001b[1;37m                                          ^\u001b[0m\n\u001b[1;31mSyntaxError\u001b[0m\u001b[1;31m:\u001b[0m invalid syntax\n"
     ]
    }
   ],
   "source": [
    "x = 3.14159265\n",
    "print(f'pi = {(f1_score(analise_bert['categoria'], analise_bert['categoria_pred'], average='micro') * 100):.2f}')"
   ]
  }
 ],
 "metadata": {
  "kernelspec": {
   "display_name": "Python 3.8.0 64-bit",
   "language": "python",
   "name": "python38064bit89dc14be3fab4c2eaace80ffa1d6b33e"
  },
  "language_info": {
   "codemirror_mode": {
    "name": "ipython",
    "version": 3
   },
   "file_extension": ".py",
   "mimetype": "text/x-python",
   "name": "python",
   "nbconvert_exporter": "python",
   "pygments_lexer": "ipython3",
   "version": "3.8.0"
  }
 },
 "nbformat": 4,
 "nbformat_minor": 4
}
