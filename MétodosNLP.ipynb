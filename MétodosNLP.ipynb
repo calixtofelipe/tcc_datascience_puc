{
 "cells": [
  {
   "cell_type": "markdown",
   "metadata": {},
   "source": [
    "## TÉCNICAS DE NLP"
   ]
  },
  {
   "cell_type": "code",
   "execution_count": 2,
   "metadata": {},
   "outputs": [],
   "source": [
    "import pandas as pd\n",
    "import numpy as np\n",
    "from sklearn.model_selection import train_test_split\n",
    "import re\n",
    "from unidecode import unidecode"
   ]
  },
  {
   "cell_type": "code",
   "execution_count": 10,
   "metadata": {},
   "outputs": [],
   "source": [
    "list_sample = [['o felipe calixto tirou 10 no tcc'],\n",
    "              ['o felipe fez otima apresentacao tcc']]"
   ]
  },
  {
   "cell_type": "code",
   "execution_count": 18,
   "metadata": {},
   "outputs": [],
   "source": [
    "from transformers import BertTokenizer\n",
    "tokenizer = BertTokenizer.from_pretrained('neuralmind/bert-base-portuguese-cased', cls_token='[CLS]', \n",
    "                                          mask_token='[MASK]', \n",
    "                                          do_basic_tokenize=False,\n",
    "                                          do_lower_case=False, \n",
    "                                          unk_token='[UNK]', strip_accents=True, clean_text=True)\n",
    "\n"
   ]
  },
  {
   "cell_type": "code",
   "execution_count": 27,
   "metadata": {},
   "outputs": [
    {
     "name": "stdout",
     "output_type": "stream",
     "text": [
      "frase1 - bert:  ['o', 'fel', '##ipe', 'cal', '##ix', '##to', 'tirou', '10', 'no', 't', '##cc']\n",
      "frase1 numbers - bert:  [101, 146, 10840, 1066, 1945, 433, 183, 15399, 1193, 202, 160, 14391, 102]\n",
      "=======================\n",
      "frase2 - bert:  ['o', 'fel', '##ipe', 'cal', '##ix', '##to', 'tirou', '10', 'no', 't', '##cc']\n",
      "frase3 numbers - bert:  [101, 146, 10840, 1066, 1191, 12512, 22278, 2064, 304, 22280, 160, 14391, 102]\n"
     ]
    }
   ],
   "source": [
    "print('frase1 - bert: ', tokenizer.tokenize(list_sample[0][0]))\n",
    "print('frase1 numbers - bert: ', tokenizer.encode(list_sample[0][0], add_special_tokens = True))\n",
    "print('=======================')                                   \n",
    "print('frase2 - bert: ', tokenizer.tokenize(list_sample[0][0]))\n",
    "print('frase3 numbers - bert: ', tokenizer.encode(list_sample[1][0], add_special_tokens = True))"
   ]
  },
  {
   "cell_type": "code",
   "execution_count": 29,
   "metadata": {},
   "outputs": [
    {
     "data": {
      "text/html": [
       "<div>\n",
       "<style scoped>\n",
       "    .dataframe tbody tr th:only-of-type {\n",
       "        vertical-align: middle;\n",
       "    }\n",
       "\n",
       "    .dataframe tbody tr th {\n",
       "        vertical-align: top;\n",
       "    }\n",
       "\n",
       "    .dataframe thead th {\n",
       "        text-align: right;\n",
       "    }\n",
       "</style>\n",
       "<table border=\"1\" class=\"dataframe\">\n",
       "  <thead>\n",
       "    <tr style=\"text-align: right;\">\n",
       "      <th></th>\n",
       "      <th>0</th>\n",
       "      <th>1</th>\n",
       "    </tr>\n",
       "  </thead>\n",
       "  <tbody>\n",
       "    <tr>\n",
       "      <th>10</th>\n",
       "      <td>1</td>\n",
       "      <td>0</td>\n",
       "    </tr>\n",
       "    <tr>\n",
       "      <th>apresentacao</th>\n",
       "      <td>0</td>\n",
       "      <td>1</td>\n",
       "    </tr>\n",
       "    <tr>\n",
       "      <th>calixto</th>\n",
       "      <td>1</td>\n",
       "      <td>0</td>\n",
       "    </tr>\n",
       "    <tr>\n",
       "      <th>felipe</th>\n",
       "      <td>1</td>\n",
       "      <td>1</td>\n",
       "    </tr>\n",
       "    <tr>\n",
       "      <th>fez</th>\n",
       "      <td>0</td>\n",
       "      <td>1</td>\n",
       "    </tr>\n",
       "    <tr>\n",
       "      <th>no</th>\n",
       "      <td>1</td>\n",
       "      <td>0</td>\n",
       "    </tr>\n",
       "    <tr>\n",
       "      <th>otima</th>\n",
       "      <td>0</td>\n",
       "      <td>1</td>\n",
       "    </tr>\n",
       "    <tr>\n",
       "      <th>tcc</th>\n",
       "      <td>1</td>\n",
       "      <td>1</td>\n",
       "    </tr>\n",
       "    <tr>\n",
       "      <th>tirou</th>\n",
       "      <td>1</td>\n",
       "      <td>0</td>\n",
       "    </tr>\n",
       "  </tbody>\n",
       "</table>\n",
       "</div>"
      ],
      "text/plain": [
       "              0  1\n",
       "10            1  0\n",
       "apresentacao  0  1\n",
       "calixto       1  0\n",
       "felipe        1  1\n",
       "fez           0  1\n",
       "no            1  0\n",
       "otima         0  1\n",
       "tcc           1  1\n",
       "tirou         1  0"
      ]
     },
     "execution_count": 29,
     "metadata": {},
     "output_type": "execute_result"
    }
   ],
   "source": [
    "from sklearn.feature_extraction.text import CountVectorizer\n",
    "list_test = ['o felipe calixto tirou 10 no tcc','o felipe fez otima apresentacao tcc']\n",
    "v_test = CountVectorizer()\n",
    "sample = v_test.fit_transform(list_test)\n",
    "df2 = pd.DataFrame(sample.toarray().transpose(),\n",
    "                   index=v_test.get_feature_names())\n",
    "df2 "
   ]
  },
  {
   "cell_type": "code",
   "execution_count": 30,
   "metadata": {},
   "outputs": [
    {
     "data": {
      "text/html": [
       "<div>\n",
       "<style scoped>\n",
       "    .dataframe tbody tr th:only-of-type {\n",
       "        vertical-align: middle;\n",
       "    }\n",
       "\n",
       "    .dataframe tbody tr th {\n",
       "        vertical-align: top;\n",
       "    }\n",
       "\n",
       "    .dataframe thead th {\n",
       "        text-align: right;\n",
       "    }\n",
       "</style>\n",
       "<table border=\"1\" class=\"dataframe\">\n",
       "  <thead>\n",
       "    <tr style=\"text-align: right;\">\n",
       "      <th></th>\n",
       "      <th>0</th>\n",
       "      <th>1</th>\n",
       "    </tr>\n",
       "  </thead>\n",
       "  <tbody>\n",
       "    <tr>\n",
       "      <th>10</th>\n",
       "      <td>0.446656</td>\n",
       "      <td>0.000000</td>\n",
       "    </tr>\n",
       "    <tr>\n",
       "      <th>apresentacao</th>\n",
       "      <td>0.000000</td>\n",
       "      <td>0.499221</td>\n",
       "    </tr>\n",
       "    <tr>\n",
       "      <th>calixto</th>\n",
       "      <td>0.446656</td>\n",
       "      <td>0.000000</td>\n",
       "    </tr>\n",
       "    <tr>\n",
       "      <th>felipe</th>\n",
       "      <td>0.317800</td>\n",
       "      <td>0.355200</td>\n",
       "    </tr>\n",
       "    <tr>\n",
       "      <th>fez</th>\n",
       "      <td>0.000000</td>\n",
       "      <td>0.499221</td>\n",
       "    </tr>\n",
       "    <tr>\n",
       "      <th>no</th>\n",
       "      <td>0.446656</td>\n",
       "      <td>0.000000</td>\n",
       "    </tr>\n",
       "    <tr>\n",
       "      <th>otima</th>\n",
       "      <td>0.000000</td>\n",
       "      <td>0.499221</td>\n",
       "    </tr>\n",
       "    <tr>\n",
       "      <th>tcc</th>\n",
       "      <td>0.317800</td>\n",
       "      <td>0.355200</td>\n",
       "    </tr>\n",
       "    <tr>\n",
       "      <th>tirou</th>\n",
       "      <td>0.446656</td>\n",
       "      <td>0.000000</td>\n",
       "    </tr>\n",
       "  </tbody>\n",
       "</table>\n",
       "</div>"
      ],
      "text/plain": [
       "                     0         1\n",
       "10            0.446656  0.000000\n",
       "apresentacao  0.000000  0.499221\n",
       "calixto       0.446656  0.000000\n",
       "felipe        0.317800  0.355200\n",
       "fez           0.000000  0.499221\n",
       "no            0.446656  0.000000\n",
       "otima         0.000000  0.499221\n",
       "tcc           0.317800  0.355200\n",
       "tirou         0.446656  0.000000"
      ]
     },
     "execution_count": 30,
     "metadata": {},
     "output_type": "execute_result"
    }
   ],
   "source": [
    "from sklearn.feature_extraction.text import TfidfVectorizer\n",
    "list_test = ['o felipe calixto tirou 10 no tcc','o felipe fez otima apresentacao tcc']\n",
    "v_test = TfidfVectorizer()\n",
    "sample = v_test.fit_transform(list_test)\n",
    "df2 = pd.DataFrame(sample.toarray().transpose(),\n",
    "                   index=v_test.get_feature_names())\n",
    "df2 "
   ]
  }
 ],
 "metadata": {
  "kernelspec": {
   "display_name": "Python 3.8.0 64-bit",
   "language": "python",
   "name": "python38064bit89dc14be3fab4c2eaace80ffa1d6b33e"
  },
  "language_info": {
   "codemirror_mode": {
    "name": "ipython",
    "version": 3
   },
   "file_extension": ".py",
   "mimetype": "text/x-python",
   "name": "python",
   "nbconvert_exporter": "python",
   "pygments_lexer": "ipython3",
   "version": "3.8.0"
  }
 },
 "nbformat": 4,
 "nbformat_minor": 4
}
